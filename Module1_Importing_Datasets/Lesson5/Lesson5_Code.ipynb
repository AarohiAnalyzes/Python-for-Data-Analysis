{
  "nbformat": 4,
  "nbformat_minor": 0,
  "metadata": {
    "colab": {
      "provenance": [],
      "authorship_tag": "ABX9TyN7ar+oo9V0OkJDsfWXKdy4",
      "include_colab_link": true
    },
    "kernelspec": {
      "name": "python3",
      "display_name": "Python 3"
    },
    "language_info": {
      "name": "python"
    }
  },
  "cells": [
    {
      "cell_type": "markdown",
      "metadata": {
        "id": "view-in-github",
        "colab_type": "text"
      },
      "source": [
        "<a href=\"https://colab.research.google.com/github/AarohiAnalyzes/Python-for-Data-Analysis/blob/main/Module1_Importing_Datasets/Lesson5/Lesson5_Code.ipynb\" target=\"_parent\"><img src=\"https://colab.research.google.com/assets/colab-badge.svg\" alt=\"Open In Colab\"/></a>"
      ]
    },
    {
      "cell_type": "markdown",
      "source": [
        "# **Accessing Databases with Python**"
      ],
      "metadata": {
        "id": "bTfJ8Rtx7TaM"
      }
    },
    {
      "cell_type": "code",
      "execution_count": null,
      "metadata": {
        "id": "o1RD-whw7MF6"
      },
      "outputs": [],
      "source": [
        "import sqlite3"
      ]
    },
    {
      "cell_type": "code",
      "source": [
        "# connects the database\n",
        "conn =  sqlite3.connect(\"students.db\")"
      ],
      "metadata": {
        "id": "4UFLN8hp7ahG"
      },
      "execution_count": null,
      "outputs": []
    },
    {
      "cell_type": "code",
      "source": [
        "# Create a cursor\n",
        "cur = conn.cursor()"
      ],
      "metadata": {
        "id": "LVUfmptM7-Pf"
      },
      "execution_count": null,
      "outputs": []
    },
    {
      "cell_type": "code",
      "source": [
        "# Create a table\n",
        "cur.execute(\n",
        "    '''\n",
        "    CREATE TABLE IF NOT EXISTS students (\n",
        "      id INT PRIMARY KEY,\n",
        "      name TEXT,\n",
        "      marks REAL\n",
        "    )\n",
        "    '''\n",
        ")"
      ],
      "metadata": {
        "colab": {
          "base_uri": "https://localhost:8080/"
        },
        "id": "De17ehbf8E0r",
        "outputId": "5ab8302d-1c96-45b8-b606-8e889c7ed234"
      },
      "execution_count": null,
      "outputs": [
        {
          "output_type": "execute_result",
          "data": {
            "text/plain": [
              "<sqlite3.Cursor at 0x78bdd616e9c0>"
            ]
          },
          "metadata": {},
          "execution_count": 4
        }
      ]
    },
    {
      "cell_type": "code",
      "source": [
        "# Insert data\n",
        "cur.execute(\"INSERT INTO students (id, name, marks) values(?,?,?)\", (\"101\",\"Alice\",\"90\"))\n",
        "cur.execute(\"INSERT INTO students (id, name, marks) values(?,?,?)\", (\"102\",\"Bob\",\"75\"))"
      ],
      "metadata": {
        "colab": {
          "base_uri": "https://localhost:8080/"
        },
        "id": "STSZpDPx8sZT",
        "outputId": "5a2d1f71-b0a4-42d1-937f-2ad04d4e07b1"
      },
      "execution_count": null,
      "outputs": [
        {
          "output_type": "execute_result",
          "data": {
            "text/plain": [
              "<sqlite3.Cursor at 0x78bdd616e9c0>"
            ]
          },
          "metadata": {},
          "execution_count": 5
        }
      ]
    },
    {
      "cell_type": "code",
      "source": [
        "# Save the changes\n",
        "conn.commit()"
      ],
      "metadata": {
        "id": "DFKu6tZD9LeT"
      },
      "execution_count": null,
      "outputs": []
    },
    {
      "cell_type": "code",
      "source": [
        "# Read data\n",
        "\n",
        "cur.execute(\"SELECT * FROM students\")\n",
        "rows = cur.fetchall()\n",
        "for row in rows:\n",
        "  print(row)"
      ],
      "metadata": {
        "id": "Sj2Fowqd9V8T",
        "colab": {
          "base_uri": "https://localhost:8080/"
        },
        "outputId": "bae6c049-613b-41eb-9a07-7f2c7abf449b"
      },
      "execution_count": null,
      "outputs": [
        {
          "output_type": "stream",
          "name": "stdout",
          "text": [
            "(101, 'Alice', 90.0)\n",
            "(102, 'Bob', 75.0)\n"
          ]
        }
      ]
    },
    {
      "cell_type": "code",
      "source": [
        "# Close the connection\n",
        "conn.close()"
      ],
      "metadata": {
        "id": "uaiZkTlH9m0q"
      },
      "execution_count": null,
      "outputs": []
    },
    {
      "cell_type": "code",
      "source": [],
      "metadata": {
        "id": "BWPpaxGQ-ZZC"
      },
      "execution_count": null,
      "outputs": []
    }
  ]
}